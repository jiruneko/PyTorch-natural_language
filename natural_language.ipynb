{
  "nbformat": 4,
  "nbformat_minor": 0,
  "metadata": {
    "colab": {
      "provenance": [],
      "authorship_tag": "ABX9TyOqUhvOt0NHM+OVVs9TOcKe",
      "include_colab_link": true
    },
    "kernelspec": {
      "name": "python3",
      "display_name": "Python 3"
    },
    "language_info": {
      "name": "python"
    }
  },
  "cells": [
    {
      "cell_type": "markdown",
      "metadata": {
        "id": "view-in-github",
        "colab_type": "text"
      },
      "source": [
        "<a href=\"https://colab.research.google.com/github/jiruneko/PyTorch-natural_language/blob/main/natural_language.ipynb\" target=\"_parent\"><img src=\"https://colab.research.google.com/assets/colab-badge.svg\" alt=\"Open In Colab\"/></a>"
      ]
    },
    {
      "cell_type": "code",
      "execution_count": 1,
      "metadata": {
        "id": "IRgopSaTajYa",
        "colab": {
          "base_uri": "https://localhost:8080/"
        },
        "outputId": "537d7037-aeff-4366-e491-f28f778ec411"
      },
      "outputs": [
        {
          "output_type": "stream",
          "name": "stdout",
          "text": [
            "Collecting Janome\n",
            "  Downloading Janome-0.5.0-py2.py3-none-any.whl (19.7 MB)\n",
            "\u001b[2K     \u001b[90m━━━━━━━━━━━━━━━━━━━━━━━━━━━━━━━━━━━━━━━━\u001b[0m \u001b[32m19.7/19.7 MB\u001b[0m \u001b[31m23.1 MB/s\u001b[0m eta \u001b[36m0:00:00\u001b[0m\n",
            "\u001b[?25hInstalling collected packages: Janome\n",
            "Successfully installed Janome-0.5.0\n"
          ]
        }
      ],
      "source": [
        "!pip install Janome"
      ]
    },
    {
      "cell_type": "code",
      "source": [
        "!pip install wakati"
      ],
      "metadata": {
        "colab": {
          "base_uri": "https://localhost:8080/"
        },
        "id": "0Pp1VyNzmKrL",
        "outputId": "9e391475-967b-4689-e769-8a10b96bd1ae"
      },
      "execution_count": 5,
      "outputs": [
        {
          "output_type": "stream",
          "name": "stdout",
          "text": [
            "Collecting wakati\n",
            "  Downloading wakati-1.1-py2.py3-none-any.whl (3.5 kB)\n",
            "Installing collected packages: wakati\n",
            "Successfully installed wakati-1.1\n"
          ]
        }
      ]
    },
    {
      "cell_type": "code",
      "source": [
        "from janome.tokenizer import Tokenizer"
      ],
      "metadata": {
        "id": "P-mXC3n4ksYq"
      },
      "execution_count": 8,
      "outputs": []
    },
    {
      "cell_type": "code",
      "source": [
        "tkz = Tokenizer()"
      ],
      "metadata": {
        "id": "Si3lf3gnlKr0"
      },
      "execution_count": 9,
      "outputs": []
    },
    {
      "cell_type": "code",
      "source": [
        "s = \"私は犬が好き。\""
      ],
      "metadata": {
        "id": "jWmkL_CRlRy-"
      },
      "execution_count": 10,
      "outputs": []
    },
    {
      "cell_type": "code",
      "source": [
        "ws = [w for w in tkz.tokenize(s,wakati=True)]"
      ],
      "metadata": {
        "id": "mWlRtlYJlZHP"
      },
      "execution_count": 13,
      "outputs": []
    },
    {
      "cell_type": "code",
      "source": [
        "ws"
      ],
      "metadata": {
        "colab": {
          "base_uri": "https://localhost:8080/"
        },
        "id": "v5On5czUmTbz",
        "outputId": "abba34e0-d5ef-4e39-ae64-5acbcf6c4f99"
      },
      "execution_count": 14,
      "outputs": [
        {
          "output_type": "execute_result",
          "data": {
            "text/plain": [
              "['私', 'は', '犬', 'が', '好き', '。']"
            ]
          },
          "metadata": {},
          "execution_count": 14
        }
      ]
    },
    {
      "cell_type": "code",
      "source": [
        "from gensim.models.keyedvectors import KeyedVectors"
      ],
      "metadata": {
        "id": "pB6zXwUHoq12"
      },
      "execution_count": 15,
      "outputs": []
    },
    {
      "cell_type": "code",
      "source": [
        "import pickle"
      ],
      "metadata": {
        "id": "NK-lglRVo2Zn"
      },
      "execution_count": 17,
      "outputs": []
    },
    {
      "cell_type": "code",
      "source": [
        "with open('dic.pkl', 'br') as f:\n",
        "  dic = pickle.load(f)"
      ],
      "metadata": {
        "id": "ETVz9a_LpJ1G"
      },
      "execution_count": 19,
      "outputs": []
    },
    {
      "cell_type": "code",
      "source": [
        "dic['犬']"
      ],
      "metadata": {
        "colab": {
          "base_uri": "https://localhost:8080/"
        },
        "id": "jtcrUUu9wZbN",
        "outputId": "bf1e1eb1-1e3a-4cac-b74a-5e569ce9a43f"
      },
      "execution_count": 20,
      "outputs": [
        {
          "output_type": "execute_result",
          "data": {
            "text/plain": [
              "4373"
            ]
          },
          "metadata": {},
          "execution_count": 20
        }
      ]
    },
    {
      "cell_type": "code",
      "source": [
        "with open('xtrain.pkl', 'br')as f:\n",
        "  xdata = pickle.load(f)"
      ],
      "metadata": {
        "id": "ozO2Hs0_yDjr"
      },
      "execution_count": 22,
      "outputs": []
    },
    {
      "cell_type": "code",
      "source": [
        "with open('ytrain.pkl', 'br')as f:\n",
        "  ydata = pickle.load(f)"
      ],
      "metadata": {
        "id": "4il2QER-ykkz"
      },
      "execution_count": 24,
      "outputs": []
    },
    {
      "cell_type": "code",
      "source": [
        "xdata[6]"
      ],
      "metadata": {
        "colab": {
          "base_uri": "https://localhost:8080/"
        },
        "id": "fKsiQd6jzJIb",
        "outputId": "833ea56a-4d38-47f9-c6d0-f7aee4b953a9"
      },
      "execution_count": 25,
      "outputs": [
        {
          "output_type": "execute_result",
          "data": {
            "text/plain": [
              "[74, 75, 2, 60, 76, 62, 5, 6]"
            ]
          },
          "metadata": {},
          "execution_count": 25
        }
      ]
    },
    {
      "cell_type": "code",
      "source": [
        "ydata[6]"
      ],
      "metadata": {
        "colab": {
          "base_uri": "https://localhost:8080/"
        },
        "id": "E_k_Gf20zT25",
        "outputId": "258744f6-8b5d-4949-f756-c4fc200fdf3f"
      },
      "execution_count": 26,
      "outputs": [
        {
          "output_type": "execute_result",
          "data": {
            "text/plain": [
              "[9, 0, 1, 8, 5, 7, 3, 4]"
            ]
          },
          "metadata": {},
          "execution_count": 26
        }
      ]
    },
    {
      "cell_type": "code",
      "source": [],
      "metadata": {
        "id": "rlUMEVEozYeP"
      },
      "execution_count": null,
      "outputs": []
    }
  ]
}